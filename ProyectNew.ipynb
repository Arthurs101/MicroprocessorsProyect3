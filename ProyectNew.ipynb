{
  "nbformat": 4,
  "nbformat_minor": 0,
  "metadata": {
    "colab": {
      "provenance": []
    },
    "kernelspec": {
      "name": "python3",
      "display_name": "Python 3"
    },
    "language_info": {
      "name": "python"
    },
    "accelerator": "GPU",
    "gpuClass": "standard"
  },
  "cells": [
    {
      "cell_type": "code",
      "execution_count": 1,
      "metadata": {
        "colab": {
          "base_uri": "https://localhost:8080/"
        },
        "id": "LcQvwRNHfuFH",
        "outputId": "c124a1d8-5d78-4769-dbe7-3c761056b436"
      },
      "outputs": [
        {
          "output_type": "stream",
          "name": "stdout",
          "text": [
            "Looking in indexes: https://pypi.org/simple, https://us-python.pkg.dev/colab-wheels/public/simple/\n",
            "Requirement already satisfied: gspread in /usr/local/lib/python3.7/dist-packages (3.4.2)\n",
            "Requirement already satisfied: requests>=2.2.1 in /usr/local/lib/python3.7/dist-packages (from gspread) (2.23.0)\n",
            "Requirement already satisfied: google-auth in /usr/local/lib/python3.7/dist-packages (from gspread) (2.14.1)\n",
            "Requirement already satisfied: certifi>=2017.4.17 in /usr/local/lib/python3.7/dist-packages (from requests>=2.2.1->gspread) (2022.9.24)\n",
            "Requirement already satisfied: urllib3!=1.25.0,!=1.25.1,<1.26,>=1.21.1 in /usr/local/lib/python3.7/dist-packages (from requests>=2.2.1->gspread) (1.24.3)\n",
            "Requirement already satisfied: chardet<4,>=3.0.2 in /usr/local/lib/python3.7/dist-packages (from requests>=2.2.1->gspread) (3.0.4)\n",
            "Requirement already satisfied: idna<3,>=2.5 in /usr/local/lib/python3.7/dist-packages (from requests>=2.2.1->gspread) (2.10)\n",
            "Requirement already satisfied: cachetools<6.0,>=2.0.0 in /usr/local/lib/python3.7/dist-packages (from google-auth->gspread) (5.2.0)\n",
            "Requirement already satisfied: rsa<5,>=3.1.4 in /usr/local/lib/python3.7/dist-packages (from google-auth->gspread) (4.9)\n",
            "Requirement already satisfied: six>=1.9.0 in /usr/local/lib/python3.7/dist-packages (from google-auth->gspread) (1.15.0)\n",
            "Requirement already satisfied: pyasn1-modules>=0.2.1 in /usr/local/lib/python3.7/dist-packages (from google-auth->gspread) (0.2.8)\n",
            "Requirement already satisfied: pyasn1<0.5.0,>=0.4.6 in /usr/local/lib/python3.7/dist-packages (from pyasn1-modules>=0.2.1->google-auth->gspread) (0.4.8)\n",
            "Looking in indexes: https://pypi.org/simple, https://us-python.pkg.dev/colab-wheels/public/simple/\n",
            "Requirement already satisfied: gspread-dataframe in /usr/local/lib/python3.7/dist-packages (3.0.8)\n",
            "Requirement already satisfied: gspread>=3.0.0 in /usr/local/lib/python3.7/dist-packages (from gspread-dataframe) (3.4.2)\n",
            "Requirement already satisfied: pandas>=0.14.0 in /usr/local/lib/python3.7/dist-packages (from gspread-dataframe) (1.3.5)\n",
            "Requirement already satisfied: requests>=2.2.1 in /usr/local/lib/python3.7/dist-packages (from gspread>=3.0.0->gspread-dataframe) (2.23.0)\n",
            "Requirement already satisfied: google-auth in /usr/local/lib/python3.7/dist-packages (from gspread>=3.0.0->gspread-dataframe) (2.14.1)\n",
            "Requirement already satisfied: pytz>=2017.3 in /usr/local/lib/python3.7/dist-packages (from pandas>=0.14.0->gspread-dataframe) (2022.6)\n",
            "Requirement already satisfied: python-dateutil>=2.7.3 in /usr/local/lib/python3.7/dist-packages (from pandas>=0.14.0->gspread-dataframe) (2.8.2)\n",
            "Requirement already satisfied: numpy>=1.17.3 in /usr/local/lib/python3.7/dist-packages (from pandas>=0.14.0->gspread-dataframe) (1.21.6)\n",
            "Requirement already satisfied: six>=1.5 in /usr/local/lib/python3.7/dist-packages (from python-dateutil>=2.7.3->pandas>=0.14.0->gspread-dataframe) (1.15.0)\n",
            "Requirement already satisfied: idna<3,>=2.5 in /usr/local/lib/python3.7/dist-packages (from requests>=2.2.1->gspread>=3.0.0->gspread-dataframe) (2.10)\n",
            "Requirement already satisfied: chardet<4,>=3.0.2 in /usr/local/lib/python3.7/dist-packages (from requests>=2.2.1->gspread>=3.0.0->gspread-dataframe) (3.0.4)\n",
            "Requirement already satisfied: urllib3!=1.25.0,!=1.25.1,<1.26,>=1.21.1 in /usr/local/lib/python3.7/dist-packages (from requests>=2.2.1->gspread>=3.0.0->gspread-dataframe) (1.24.3)\n",
            "Requirement already satisfied: certifi>=2017.4.17 in /usr/local/lib/python3.7/dist-packages (from requests>=2.2.1->gspread>=3.0.0->gspread-dataframe) (2022.9.24)\n",
            "Requirement already satisfied: rsa<5,>=3.1.4 in /usr/local/lib/python3.7/dist-packages (from google-auth->gspread>=3.0.0->gspread-dataframe) (4.9)\n",
            "Requirement already satisfied: pyasn1-modules>=0.2.1 in /usr/local/lib/python3.7/dist-packages (from google-auth->gspread>=3.0.0->gspread-dataframe) (0.2.8)\n",
            "Requirement already satisfied: cachetools<6.0,>=2.0.0 in /usr/local/lib/python3.7/dist-packages (from google-auth->gspread>=3.0.0->gspread-dataframe) (5.2.0)\n",
            "Requirement already satisfied: pyasn1<0.5.0,>=0.4.6 in /usr/local/lib/python3.7/dist-packages (from pyasn1-modules>=0.2.1->google-auth->gspread>=3.0.0->gspread-dataframe) (0.4.8)\n"
          ]
        }
      ],
      "source": [
        "!pip install gspread\n",
        "!pip install gspread-dataframe"
      ]
    },
    {
      "cell_type": "code",
      "source": [
        "from google.colab import auth\n",
        "auth.authenticate_user()\n",
        "import gspread\n",
        "\n",
        "from google.colab import auth\n",
        "auth.authenticate_user()\n",
        "\n",
        "from gspread_dataframe import get_as_dataframe, set_with_dataframe\n",
        "import gspread\n",
        "from google.auth import default\n",
        "import pandas as pd\n",
        "\n",
        "#obtener credenciales y acceder a la spreadsheet\n",
        "creds, _ = default()\n",
        "gc = gspread.authorize(creds)\n",
        "wb = gc.open_by_key('1sKR0fjKL4OAo0CJ8nEcXxFgp7JpG_KcJu7nSygswqgU')\n",
        "ws = wb.worksheet('RawData')\n",
        "\n",
        "\n",
        "df = get_as_dataframe(ws, usecols=[0,1,2,3]) #usar las primeras 4 columnas dado que ahí están los datos,  y convertirlo a data frame\n",
        "df = df.dropna() #remover todos los nan\n"
      ],
      "metadata": {
        "id": "lCx1wmdtf_2N"
      },
      "execution_count": 2,
      "outputs": []
    },
    {
      "cell_type": "code",
      "source": [],
      "metadata": {
        "id": "i9vN8HdQgEMW"
      },
      "execution_count": null,
      "outputs": []
    },
    {
      "cell_type": "code",
      "source": [
        "#importar cuda\n",
        "from numba import cuda\n",
        "import numpy as np"
      ],
      "metadata": {
        "id": "FCwrZ1gngFwj"
      },
      "execution_count": 4,
      "outputs": []
    },
    {
      "cell_type": "code",
      "source": [
        "#cuda\n",
        "@cuda.jit\n",
        "def conversor(c,f,k):\n",
        "    i = cuda.grid(1)\n",
        "    if i < len(c):\n",
        "       f[i] =  (9/5)*c[i] + 32\n",
        "       k[i] = 273.15 + c[i]"
      ],
      "metadata": {
        "id": "2yXsRU3jgn0u"
      },
      "execution_count": 27,
      "outputs": []
    },
    {
      "cell_type": "code",
      "source": [
        "#crear variables\n",
        "x = df.iloc[0:,0].values.astype(np.float64)\n",
        "f = np.zeros_like(x)\n",
        "k = np.zeros_like(x)\n",
        "#cantidad de datos a procesar\n",
        "N = len(x)"
      ],
      "metadata": {
        "id": "Gn6fWyvdgri8"
      },
      "execution_count": 28,
      "outputs": []
    },
    {
      "cell_type": "code",
      "source": [
        "#calcular los bloques (se tiene 256 hilos por bloque)\n",
        "threads = 256\n",
        "blocks = (N // threads) + 1\n",
        "#iniciar el kernel\n",
        "conversor[blocks, threads](x,f,k)\n",
        "#colocar los valores en el dataframe\n",
        "df[\"Temperatura(°F)\"] = f\n",
        "df[\"Temperatura(K)\"] = k\n",
        "\n",
        "#cambiar de los 1.0 a True y los 0's a False\n",
        "df.loc[df[\"Iluminacion\"] >= 1, \"Iluminacion\"] = True\n",
        "df.loc[df[\"Iluminacion\"] < 1, \"Iluminacion\"] = False\n",
        "\n",
        "print(df)"
      ],
      "metadata": {
        "colab": {
          "base_uri": "https://localhost:8080/"
        },
        "id": "CoM8Gmasgtyy",
        "outputId": "ea83268a-5542-4e82-a26c-a7c19f0b1f44"
      },
      "execution_count": 45,
      "outputs": [
        {
          "output_type": "stream",
          "name": "stdout",
          "text": [
            "     Temperatura(°C)  Temperatura(°F)  Temperatura(K) Iluminacion\n",
            "0              26.24           79.232          299.39        True\n",
            "1              26.23           79.214          299.38        True\n",
            "2              26.24           79.232          299.39        True\n",
            "3              26.25           79.250          299.40        True\n",
            "4              26.25           79.250          299.40        True\n",
            "..               ...              ...             ...         ...\n",
            "175            27.43           81.374          300.58        True\n",
            "176            27.42           81.356          300.57        True\n",
            "177            27.42           81.356          300.57        True\n",
            "178            27.42           81.356          300.57        True\n",
            "179            27.41           81.338          300.56        True\n",
            "\n",
            "[180 rows x 4 columns]\n"
          ]
        },
        {
          "output_type": "stream",
          "name": "stderr",
          "text": [
            "/usr/local/lib/python3.7/dist-packages/numba/cuda/cudadrv/devicearray.py:885: NumbaPerformanceWarning: Host array used in CUDA kernel will incur copy overhead to/from device.\n",
            "  warn(NumbaPerformanceWarning(msg))\n"
          ]
        }
      ]
    },
    {
      "cell_type": "code",
      "source": [
        "#subir los valores a la datasheet\n",
        "set_with_dataframe(ws, df)"
      ],
      "metadata": {
        "id": "R_v01axTh7xO"
      },
      "execution_count": 46,
      "outputs": []
    }
  ]
}